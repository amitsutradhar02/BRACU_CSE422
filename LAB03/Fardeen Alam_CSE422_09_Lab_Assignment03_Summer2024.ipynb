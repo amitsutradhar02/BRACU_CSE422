{
  "nbformat": 4,
  "nbformat_minor": 0,
  "metadata": {
    "colab": {
      "provenance": []
    },
    "kernelspec": {
      "name": "python3",
      "display_name": "Python 3"
    },
    "language_info": {
      "name": "python"
    }
  },
  "cells": [
    {
      "cell_type": "code",
      "execution_count": 1,
      "metadata": {
        "colab": {
          "base_uri": "https://localhost:8080/"
        },
        "id": "tHhBwWdjjKpQ",
        "outputId": "86076c83-87e0-4559-b241-9e2002ed04d2"
      },
      "outputs": [
        {
          "output_type": "stream",
          "name": "stdout",
          "text": [
            "Enter the starting player (0 for Scorpion, 1 for Sub-Zero): 0\n",
            "Game Winner:Scorpion\n",
            "Total Rounds Played:3\n",
            "Winner of Round 1:Scorpion\n",
            "Winner of Round 2:Sub-Zero\n",
            "Winner of Round 3:Scorpion\n"
          ]
        }
      ],
      "source": [
        "#TASK-1\n",
        "\n",
        "import random\n",
        "max_val,min_val=9999,-9999\n",
        "\n",
        "def decision(depth,idx,is_maximizing,scores,alpha,beta):\n",
        "    if depth==5:\n",
        "        return scores[idx]\n",
        "    if is_maximizing:\n",
        "        best=min_val\n",
        "        for i in range(2):\n",
        "            val=decision(depth+1,idx*2+i,False,scores,alpha,beta)\n",
        "            best=max(best,val)\n",
        "            alpha=max(alpha,best)\n",
        "            if beta<=alpha:\n",
        "                break\n",
        "        return best\n",
        "    else:\n",
        "        best=max_val\n",
        "        for i in range(2):\n",
        "            val=decision(depth + 1, idx * 2 + i, True, scores, alpha, beta)\n",
        "            best=min(best, val)\n",
        "            beta=min(beta, best)\n",
        "            if beta<=alpha:\n",
        "                break\n",
        "        return best\n",
        "\n",
        "def play_game(first_player):\n",
        "    scorpion=0\n",
        "    sub_zero=0\n",
        "    results=[]\n",
        "    current_player=first_player\n",
        "\n",
        "    for round_num in range(3):\n",
        "        scores = []\n",
        "        for i in range(2**5):\n",
        "          random_value = random.choice([-1, 1])\n",
        "          scores.append(random_value)\n",
        "        outcome=decision(0,0,current_player==1,scores,min_val,max_val)\n",
        "        if outcome==1:\n",
        "            winner=\"Sub-Zero\"\n",
        "        else:\n",
        "            winner=\"Scorpion\"\n",
        "        results.append(f\"Winner of Round {round_num+1}:{winner}\")\n",
        "        if winner==\"Sub-Zero\":\n",
        "            sub_zero+=1\n",
        "        else:\n",
        "            scorpion+=1\n",
        "        current_player=1-current_player\n",
        "\n",
        "    if sub_zero>scorpion:\n",
        "      final_winner=\"Sub-Zero\"\n",
        "    else:\n",
        "      final_winner=\"Scorpion\"\n",
        "    return f\"Game Winner:{final_winner}\\nTotal Rounds Played:3\\n\"+\"\\n\".join(results)\n",
        "\n",
        "while True:\n",
        "    try:\n",
        "        start_player=int(input(\"Enter the starting player (0 for Scorpion, 1 for Sub-Zero): \"))\n",
        "        if start_player==0 or start_player==1:\n",
        "            break\n",
        "        else:\n",
        "            print(\"Invalid input. Please enter 0 or 1.\")\n",
        "    except ValueError:\n",
        "        print(\"Invalid input. Please enter a valid number (0 or 1).\")\n",
        "\n",
        "game_result=play_game(start_player)\n",
        "print(game_result)"
      ]
    },
    {
      "cell_type": "code",
      "source": [
        "#TASK-2\n",
        "\n",
        "def minimax(node_idx,depth,isPacman,alpha,beta,values):\n",
        "    if depth==3:\n",
        "        return values[node_idx]\n",
        "    if isPacman:\n",
        "        max_value=float('-inf')\n",
        "        for i in range(2):\n",
        "            eval_value=minimax(2*node_idx+i,depth+1,False,alpha,beta,values)\n",
        "            max_value=max(max_value,eval_value)\n",
        "            alpha=max(alpha,max_value)\n",
        "            if beta<=alpha:\n",
        "                break\n",
        "        return max_value\n",
        "    else:\n",
        "        min_value=float('inf')\n",
        "        for i in range(2):\n",
        "            eval_value=minimax(2*node_idx+i,depth+1,True,alpha,beta,values)\n",
        "            min_value=min(min_value,eval_value)\n",
        "            beta=min(beta,min_value)\n",
        "            if beta<=alpha:\n",
        "                break\n",
        "        return min_value\n",
        "\n",
        "def pacman_game(c):\n",
        "    values=[3,6,2,3,7,1,2,0]\n",
        "    optimal_without_magic=minimax(0,0,True,float('-inf'),float('inf'),values)\n",
        "\n",
        "    left_branch_max=max(6,3)\n",
        "    right_branch_max=max(7,2)\n",
        "\n",
        "    left_with_magic=left_branch_max-c\n",
        "    right_with_magic=right_branch_max-c\n",
        "\n",
        "    if max(left_with_magic, right_with_magic) > optimal_without_magic:\n",
        "        chosen_direction = \"right\" if right_with_magic >= left_with_magic else \"left\"\n",
        "        new_value = max(left_with_magic, right_with_magic)\n",
        "        print(f\"The new minimax value is {new_value}. Pacman goes {chosen_direction} and uses dark magic.\")\n",
        "    else:\n",
        "        print(f\"The minimax value is {optimal_without_magic}. Pacman does not use dark magic.\")\n",
        "\n",
        "c=int(input(\"Enter the cost of dark magic: \"))\n",
        "pacman_game(c)"
      ],
      "metadata": {
        "colab": {
          "base_uri": "https://localhost:8080/"
        },
        "id": "gLbXGMOCWDRW",
        "outputId": "953b54e4-4971-4f9e-9204-9b5f63811dc7"
      },
      "execution_count": 2,
      "outputs": [
        {
          "output_type": "stream",
          "name": "stdout",
          "text": [
            "Enter the cost of dark magic: 2\n",
            "The new minimax value is 5. Pacman goes right and uses dark magic.\n"
          ]
        }
      ]
    }
  ]
}